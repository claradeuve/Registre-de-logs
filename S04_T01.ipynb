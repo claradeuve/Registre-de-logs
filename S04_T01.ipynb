{
 "cells": [
  {
   "cell_type": "markdown",
   "id": "7ea6b99d",
   "metadata": {},
   "source": [
    "## Exercici 1\n",
    "Estandaritza, identifica i enumera cada un dels atributs / variables de l'estructura de l'arxiu \"Web_access_log-akumenius.com\" que trobaràs al repositori de GitHub \"Data-sources\"."
   ]
  },
  {
   "cell_type": "code",
   "execution_count": 27,
   "id": "a8d0d151",
   "metadata": {},
   "outputs": [
    {
     "data": {
      "text/plain": [
       "['localhost',\n",
       " '127.0.0.1',\n",
       " '-',\n",
       " '-',\n",
       " '23-02-2014',\n",
       " '03:10:31',\n",
       " 'OPTIONS',\n",
       " '*',\n",
       " 'HTTP/1.0',\n",
       " '200',\n",
       " '-',\n",
       " '-',\n",
       " 'Apache (internal dummy connection)']"
      ]
     },
     "execution_count": 27,
     "metadata": {},
     "output_type": "execute_result"
    }
   ],
   "source": [
    "import re\n",
    "\n",
    "class Log:\n",
    "       \n",
    "    def __init__(self, log_line):\n",
    "        self.log_line = log_line\n",
    "\n",
    "\n",
    "    def getDate(self, string):\n",
    "        full_date = re.findall(r'([0-2][0-9]|[3][0-1])[\\/](Jan|Feb|Mar|Apr|May|Jun|Jul|Aug|Sep|Oct|Nov|Dec)[\\/](\\d{4})', string)\n",
    "        day, month, year = full_date[0]\n",
    "        \n",
    "        if month == \"Jan\":\n",
    "            month = \"01\"\n",
    "        elif month == \"Feb\":\n",
    "            month = \"02\"\n",
    "        elif month == \"Mar\":\n",
    "            month = \"03\"\n",
    "        elif month == \"Apr\":\n",
    "            month = \"04\"\n",
    "        elif month == \"May\":\n",
    "            month = \"05\"\n",
    "        elif month == \"Jun\":\n",
    "            month = \"06\"\n",
    "        elif month == \"Jul\":\n",
    "            month = \"07\"\n",
    "        elif month == \"Aug\":\n",
    "            month = \"08\"\n",
    "        elif month == \"Sep\":\n",
    "            month = \"09\"\n",
    "        elif month == \"Oct\":\n",
    "            month = \"10\"\n",
    "        elif month == \"Nov\":\n",
    "            month = \"11\"\n",
    "        elif month == \"Dec\":\n",
    "            month = \"12\"\n",
    "        \n",
    "        date = f\"{day}-{month}-{year}\"\n",
    "        return date\n",
    "\n",
    "\n",
    "    def getTime(self, string):\n",
    "        time = re.findall(r':([0-9]{1,2}:[0-9]{1,2}:[0-9]{1,2})', string)[0]\n",
    "        return time\n",
    "\n",
    "\n",
    "    def parser(self):\n",
    "        \n",
    "        HOST = r'^(?P<host>.*?)'\n",
    "        SPACE = r'\\s'\n",
    "        IP = r'(?P<ip>\\d{1,3}\\.\\d{1,3}\\.\\d{1,3}.\\d{1,3})'\n",
    "        USER = r'(?P<user>\\S+)'\n",
    "        REMOTE_LOG_NAME = r'(?P<remote_log_name>\\S+)'\n",
    "        TIME = r'(?P<time>\\[.*?\\])'\n",
    "        REQUEST = r'\\\"(?P<request>.*?)\\\"'\n",
    "        STATUS = r'(?P<status>\\d{3})'\n",
    "        SIZE = r'(?P<size>\\S+)'\n",
    "        REFERRING_URL = r'\\\"(?P<referring_url>.*?)\\\"'\n",
    "        BROWSER = r'\\\"(?P<browser>.*?)\\\"'\n",
    "\n",
    "     \n",
    "        REGEX = HOST+SPACE+IP+SPACE+REMOTE_LOG_NAME+SPACE+USER+SPACE+TIME+SPACE+REQUEST+SPACE+STATUS+SPACE+SIZE+SPACE+REFERRING_URL+SPACE+BROWSER\n",
    "        match = re.search(REGEX, self.log_line)\n",
    "        #host, ip = match.group('host').split(' ')\n",
    "        date = self.getDate(match.group('time'))\n",
    "        time = self.getTime(match.group('time'))\n",
    "        action, url, protocol = match.group('request').split(' ')\n",
    "        data = (\n",
    "            (\n",
    "                match.group('host'),\n",
    "                match.group('ip'), \n",
    "                match.group('remote_log_name'),\n",
    "                match.group('user'), \n",
    "                date, \n",
    "                time, \n",
    "                action,\n",
    "                url,\n",
    "                protocol,\n",
    "                match.group('status'),\n",
    "                match.group('size'),\n",
    "                match.group('referring_url'),\n",
    "                match.group('browser')\n",
    "            )\n",
    "        )\n",
    "        \n",
    "        return list(data)\n",
    "\n",
    "\n",
    "logLine = Log(\"\"\"localhost 127.0.0.1 - - [23/Feb/2014:03:10:31 +0100] \"OPTIONS * HTTP/1.0\" 200 - \"-\" \"Apache (internal dummy connection)\" VLOG=-\"\"\")\n",
    "logLine.parser()"
   ]
  },
  {
   "cell_type": "markdown",
   "id": "2191fa48",
   "metadata": {},
   "source": [
    "## Exercici 2\n",
    "Neteja, preprocesa, estructura i transforma (dataframe) les dades del registre d'Accés a la web."
   ]
  },
  {
   "cell_type": "markdown",
   "id": "0d5893ce",
   "metadata": {},
   "source": [
    "**Seleccionar muestra de líneas del archivo con las que trabajar**"
   ]
  },
  {
   "cell_type": "code",
   "execution_count": 28,
   "id": "eebb28a4",
   "metadata": {},
   "outputs": [],
   "source": [
    "import numpy as np\n",
    "import pandas as pd\n",
    "\n",
    "df_logs_original = pd.read_csv(\"Web_access_log-akumenius.com.txt\", sep=\"\\n\")\n",
    "df_logs_original = df_logs_original.sample(200)\n",
    "df_logs_original = df_logs_original.iloc[:, 0]"
   ]
  },
  {
   "cell_type": "markdown",
   "id": "38d4c0ce",
   "metadata": {},
   "source": [
    "**Parsear cada línea de la muestra**"
   ]
  },
  {
   "cell_type": "code",
   "execution_count": 29,
   "id": "138ed411",
   "metadata": {},
   "outputs": [],
   "source": [
    "all_logs_data = []\n",
    "\n",
    "for line in df_logs_original:\n",
    "    log = Log(f\"{line}\")\n",
    "    log_data = log.parser()\n",
    "    all_logs_data.append(log_data)\n",
    "\n",
    "\n",
    "df_logs = pd.DataFrame(all_logs_data, columns = [\"host\", \n",
    "                                                 \"ip\", \n",
    "                                                 \"remote_log_name\", \n",
    "                                                 \"user\", \n",
    "                                                 \"date\", \n",
    "                                                 \"time\", \n",
    "                                                 \"action\", \n",
    "                                                 \"requested_url\", \n",
    "                                                 \"protocol\", \n",
    "                                                 \"status\", \n",
    "                                                 \"size\", \n",
    "                                                 \"referring_url\", \n",
    "                                                 \"browser\"])"
   ]
  },
  {
   "cell_type": "code",
   "execution_count": 30,
   "id": "4303f124",
   "metadata": {},
   "outputs": [],
   "source": [
    "pages = []\n",
    "\n",
    "for url in df_logs['requested_url']:\n",
    "    if type(url) == type(\"\"):\n",
    "        url = url.lstrip(\"/\")\n",
    "        url = url.split(\"/\")[0]\n",
    "        pages.append(url)\n",
    "    else:\n",
    "        pages.append(\"\")\n",
    "        \n",
    "df_logs['page'] = pages"
   ]
  },
  {
   "cell_type": "markdown",
   "id": "db0e9d7d",
   "metadata": {},
   "source": [
    "**Estandarizar valores vacíos (marcados con '-' y '*') Nan**"
   ]
  },
  {
   "cell_type": "code",
   "execution_count": 31,
   "id": "5554b1dc",
   "metadata": {},
   "outputs": [],
   "source": [
    "df_logs = df_logs.replace('-', np.nan)\n",
    "df_logs = df_logs.replace('*', np.nan)\n",
    "df_logs = df_logs.replace('', np.nan)"
   ]
  },
  {
   "cell_type": "markdown",
   "id": "ea067153",
   "metadata": {},
   "source": [
    "**Convertir fechas a formato datetime y limpiar horas**"
   ]
  },
  {
   "cell_type": "code",
   "execution_count": 32,
   "id": "a32e51a9",
   "metadata": {},
   "outputs": [],
   "source": [
    "df_logs['date'] = pd.to_datetime(df_logs['date'])\n",
    "df_logs['time'] = pd.to_datetime(df_logs['time'])\n",
    "df_logs['time'] = df_logs['time'].dt.strftime('%H:%M')"
   ]
  },
  {
   "cell_type": "markdown",
   "id": "91a770c0",
   "metadata": {},
   "source": [
    "**Castear status**"
   ]
  },
  {
   "cell_type": "code",
   "execution_count": 33,
   "id": "e4663273",
   "metadata": {},
   "outputs": [
    {
     "name": "stdout",
     "output_type": "stream",
     "text": [
      "<class 'pandas.core.frame.DataFrame'>\n",
      "RangeIndex: 200 entries, 0 to 199\n",
      "Data columns (total 14 columns):\n",
      " #   Column           Non-Null Count  Dtype         \n",
      "---  ------           --------------  -----         \n",
      " 0   host             200 non-null    object        \n",
      " 1   ip               200 non-null    object        \n",
      " 2   remote_log_name  0 non-null      float64       \n",
      " 3   user             0 non-null      float64       \n",
      " 4   date             200 non-null    datetime64[ns]\n",
      " 5   time             200 non-null    object        \n",
      " 6   action           200 non-null    object        \n",
      " 7   requested_url    194 non-null    object        \n",
      " 8   protocol         200 non-null    object        \n",
      " 9   status           200 non-null    int64         \n",
      " 10  size             170 non-null    object        \n",
      " 11  referring_url    125 non-null    object        \n",
      " 12  browser          200 non-null    object        \n",
      " 13  page             189 non-null    object        \n",
      "dtypes: datetime64[ns](1), float64(2), int64(1), object(10)\n",
      "memory usage: 22.0+ KB\n",
      "None\n",
      "                host              ip  remote_log_name  user       date   time  \\\n",
      "0  www.akumenius.com    85.136.65.63              NaN   NaN 2014-02-25  16:53   \n",
      "1  www.akumenius.com   66.249.75.148              NaN   NaN 2014-02-27  02:02   \n",
      "2  www.akumenius.com  188.85.232.152              NaN   NaN 2014-02-24  12:24   \n",
      "3  www.akumenius.com   66.249.76.216              NaN   NaN 2014-02-23  23:16   \n",
      "4  www.akumenius.com   66.249.76.216              NaN   NaN 2014-02-23  03:31   \n",
      "\n",
      "  action                                      requested_url  protocol  status  \\\n",
      "0    GET  /modules/raton/views/themes/bcoos/css/2column_...  HTTP/1.1     200   \n",
      "1    GET  /destinosCaracteristicas/hoteles-baratos-en-Ar...  HTTP/1.1     200   \n",
      "2   POST                                   /hotel-list-data  HTTP/1.1     200   \n",
      "3    GET  /destinos-baratos/destinos-caracteristicas/hot...  HTTP/1.1     200   \n",
      "4    GET  /destinos-baratos/hoteles-en-HIGHLANDS%20&amp;...  HTTP/1.1     200   \n",
      "\n",
      "    size                                      referring_url  \\\n",
      "0  11314  http://www.akumenius.com/hotel-list/11220/EP/A...   \n",
      "1   6442                                                NaN   \n",
      "2   4993  http://www.akumenius.com/hoteles-baratos/hotel...   \n",
      "3   7948                                                NaN   \n",
      "4   7663                                                NaN   \n",
      "\n",
      "                                             browser                     page  \n",
      "0  Mozilla/5.0 (iPad; CPU OS 7_0_6 like Mac OS X)...                  modules  \n",
      "1  Mozilla/5.0 (compatible; Googlebot/2.1; +http:...  destinosCaracteristicas  \n",
      "2  Mozilla/5.0 (Linux; Android 4.3; es-es; SAMSUN...          hotel-list-data  \n",
      "3  Mozilla/5.0 (compatible; Googlebot/2.1; +http:...         destinos-baratos  \n",
      "4  Mozilla/5.0 (compatible; Googlebot/2.1; +http:...         destinos-baratos  \n"
     ]
    }
   ],
   "source": [
    "df_logs.loc[:,'status'] = df_logs['status'].astype(int)\n",
    "\n",
    "print(df_logs.info())\n",
    "print(df_logs.head())"
   ]
  },
  {
   "cell_type": "markdown",
   "id": "3bceccdc",
   "metadata": {},
   "source": [
    "## Exercici 3\n",
    "Geolocalitza les IP's"
   ]
  },
  {
   "cell_type": "code",
   "execution_count": 34,
   "id": "d070e892",
   "metadata": {},
   "outputs": [
    {
     "name": "stdout",
     "output_type": "stream",
     "text": [
      "   country  num_visits\n",
      "0      AUS           1\n",
      "1      CAN           5\n",
      "2      CHN           7\n",
      "3      ESP         112\n",
      "4      FRA           5\n",
      "5      ITA           2\n",
      "6      MEX           1\n",
      "7      OOO           6\n",
      "8      PRT           1\n",
      "9      SWE           1\n",
      "10     URY           1\n",
      "11     USA          57\n",
      "12     VEN           1\n"
     ]
    },
    {
     "data": {
      "application/vnd.plotly.v1+json": {
       "config": {
        "plotlyServerURL": "https://plot.ly"
       },
       "data": [
        {
         "geo": "geo",
         "hovertemplate": "<b>%{hovertext}</b><br><br>num_visits=%{marker.size}<br>country=%{location}<extra></extra>",
         "hovertext": [
          "AUS",
          "CAN",
          "CHN",
          "ESP",
          "FRA",
          "ITA",
          "MEX",
          "OOO",
          "PRT",
          "SWE",
          "URY",
          "USA",
          "VEN"
         ],
         "legendgroup": "",
         "locations": [
          "AUS",
          "CAN",
          "CHN",
          "ESP",
          "FRA",
          "ITA",
          "MEX",
          "OOO",
          "PRT",
          "SWE",
          "URY",
          "USA",
          "VEN"
         ],
         "marker": {
          "color": "#636efa",
          "size": [
           1,
           5,
           7,
           112,
           5,
           2,
           1,
           6,
           1,
           1,
           1,
           57,
           1
          ],
          "sizemode": "area",
          "sizeref": 0.28,
          "symbol": "circle"
         },
         "mode": "markers",
         "name": "",
         "showlegend": false,
         "type": "scattergeo"
        }
       ],
       "layout": {
        "geo": {
         "center": {},
         "domain": {
          "x": [
           0,
           1
          ],
          "y": [
           0,
           1
          ]
         },
         "projection": {
          "type": "natural earth"
         }
        },
        "legend": {
         "itemsizing": "constant",
         "tracegroupgap": 0
        },
        "margin": {
         "t": 60
        },
        "template": {
         "data": {
          "bar": [
           {
            "error_x": {
             "color": "#2a3f5f"
            },
            "error_y": {
             "color": "#2a3f5f"
            },
            "marker": {
             "line": {
              "color": "#E5ECF6",
              "width": 0.5
             },
             "pattern": {
              "fillmode": "overlay",
              "size": 10,
              "solidity": 0.2
             }
            },
            "type": "bar"
           }
          ],
          "barpolar": [
           {
            "marker": {
             "line": {
              "color": "#E5ECF6",
              "width": 0.5
             },
             "pattern": {
              "fillmode": "overlay",
              "size": 10,
              "solidity": 0.2
             }
            },
            "type": "barpolar"
           }
          ],
          "carpet": [
           {
            "aaxis": {
             "endlinecolor": "#2a3f5f",
             "gridcolor": "white",
             "linecolor": "white",
             "minorgridcolor": "white",
             "startlinecolor": "#2a3f5f"
            },
            "baxis": {
             "endlinecolor": "#2a3f5f",
             "gridcolor": "white",
             "linecolor": "white",
             "minorgridcolor": "white",
             "startlinecolor": "#2a3f5f"
            },
            "type": "carpet"
           }
          ],
          "choropleth": [
           {
            "colorbar": {
             "outlinewidth": 0,
             "ticks": ""
            },
            "type": "choropleth"
           }
          ],
          "contour": [
           {
            "colorbar": {
             "outlinewidth": 0,
             "ticks": ""
            },
            "colorscale": [
             [
              0,
              "#0d0887"
             ],
             [
              0.1111111111111111,
              "#46039f"
             ],
             [
              0.2222222222222222,
              "#7201a8"
             ],
             [
              0.3333333333333333,
              "#9c179e"
             ],
             [
              0.4444444444444444,
              "#bd3786"
             ],
             [
              0.5555555555555556,
              "#d8576b"
             ],
             [
              0.6666666666666666,
              "#ed7953"
             ],
             [
              0.7777777777777778,
              "#fb9f3a"
             ],
             [
              0.8888888888888888,
              "#fdca26"
             ],
             [
              1,
              "#f0f921"
             ]
            ],
            "type": "contour"
           }
          ],
          "contourcarpet": [
           {
            "colorbar": {
             "outlinewidth": 0,
             "ticks": ""
            },
            "type": "contourcarpet"
           }
          ],
          "heatmap": [
           {
            "colorbar": {
             "outlinewidth": 0,
             "ticks": ""
            },
            "colorscale": [
             [
              0,
              "#0d0887"
             ],
             [
              0.1111111111111111,
              "#46039f"
             ],
             [
              0.2222222222222222,
              "#7201a8"
             ],
             [
              0.3333333333333333,
              "#9c179e"
             ],
             [
              0.4444444444444444,
              "#bd3786"
             ],
             [
              0.5555555555555556,
              "#d8576b"
             ],
             [
              0.6666666666666666,
              "#ed7953"
             ],
             [
              0.7777777777777778,
              "#fb9f3a"
             ],
             [
              0.8888888888888888,
              "#fdca26"
             ],
             [
              1,
              "#f0f921"
             ]
            ],
            "type": "heatmap"
           }
          ],
          "heatmapgl": [
           {
            "colorbar": {
             "outlinewidth": 0,
             "ticks": ""
            },
            "colorscale": [
             [
              0,
              "#0d0887"
             ],
             [
              0.1111111111111111,
              "#46039f"
             ],
             [
              0.2222222222222222,
              "#7201a8"
             ],
             [
              0.3333333333333333,
              "#9c179e"
             ],
             [
              0.4444444444444444,
              "#bd3786"
             ],
             [
              0.5555555555555556,
              "#d8576b"
             ],
             [
              0.6666666666666666,
              "#ed7953"
             ],
             [
              0.7777777777777778,
              "#fb9f3a"
             ],
             [
              0.8888888888888888,
              "#fdca26"
             ],
             [
              1,
              "#f0f921"
             ]
            ],
            "type": "heatmapgl"
           }
          ],
          "histogram": [
           {
            "marker": {
             "pattern": {
              "fillmode": "overlay",
              "size": 10,
              "solidity": 0.2
             }
            },
            "type": "histogram"
           }
          ],
          "histogram2d": [
           {
            "colorbar": {
             "outlinewidth": 0,
             "ticks": ""
            },
            "colorscale": [
             [
              0,
              "#0d0887"
             ],
             [
              0.1111111111111111,
              "#46039f"
             ],
             [
              0.2222222222222222,
              "#7201a8"
             ],
             [
              0.3333333333333333,
              "#9c179e"
             ],
             [
              0.4444444444444444,
              "#bd3786"
             ],
             [
              0.5555555555555556,
              "#d8576b"
             ],
             [
              0.6666666666666666,
              "#ed7953"
             ],
             [
              0.7777777777777778,
              "#fb9f3a"
             ],
             [
              0.8888888888888888,
              "#fdca26"
             ],
             [
              1,
              "#f0f921"
             ]
            ],
            "type": "histogram2d"
           }
          ],
          "histogram2dcontour": [
           {
            "colorbar": {
             "outlinewidth": 0,
             "ticks": ""
            },
            "colorscale": [
             [
              0,
              "#0d0887"
             ],
             [
              0.1111111111111111,
              "#46039f"
             ],
             [
              0.2222222222222222,
              "#7201a8"
             ],
             [
              0.3333333333333333,
              "#9c179e"
             ],
             [
              0.4444444444444444,
              "#bd3786"
             ],
             [
              0.5555555555555556,
              "#d8576b"
             ],
             [
              0.6666666666666666,
              "#ed7953"
             ],
             [
              0.7777777777777778,
              "#fb9f3a"
             ],
             [
              0.8888888888888888,
              "#fdca26"
             ],
             [
              1,
              "#f0f921"
             ]
            ],
            "type": "histogram2dcontour"
           }
          ],
          "mesh3d": [
           {
            "colorbar": {
             "outlinewidth": 0,
             "ticks": ""
            },
            "type": "mesh3d"
           }
          ],
          "parcoords": [
           {
            "line": {
             "colorbar": {
              "outlinewidth": 0,
              "ticks": ""
             }
            },
            "type": "parcoords"
           }
          ],
          "pie": [
           {
            "automargin": true,
            "type": "pie"
           }
          ],
          "scatter": [
           {
            "marker": {
             "colorbar": {
              "outlinewidth": 0,
              "ticks": ""
             }
            },
            "type": "scatter"
           }
          ],
          "scatter3d": [
           {
            "line": {
             "colorbar": {
              "outlinewidth": 0,
              "ticks": ""
             }
            },
            "marker": {
             "colorbar": {
              "outlinewidth": 0,
              "ticks": ""
             }
            },
            "type": "scatter3d"
           }
          ],
          "scattercarpet": [
           {
            "marker": {
             "colorbar": {
              "outlinewidth": 0,
              "ticks": ""
             }
            },
            "type": "scattercarpet"
           }
          ],
          "scattergeo": [
           {
            "marker": {
             "colorbar": {
              "outlinewidth": 0,
              "ticks": ""
             }
            },
            "type": "scattergeo"
           }
          ],
          "scattergl": [
           {
            "marker": {
             "colorbar": {
              "outlinewidth": 0,
              "ticks": ""
             }
            },
            "type": "scattergl"
           }
          ],
          "scattermapbox": [
           {
            "marker": {
             "colorbar": {
              "outlinewidth": 0,
              "ticks": ""
             }
            },
            "type": "scattermapbox"
           }
          ],
          "scatterpolar": [
           {
            "marker": {
             "colorbar": {
              "outlinewidth": 0,
              "ticks": ""
             }
            },
            "type": "scatterpolar"
           }
          ],
          "scatterpolargl": [
           {
            "marker": {
             "colorbar": {
              "outlinewidth": 0,
              "ticks": ""
             }
            },
            "type": "scatterpolargl"
           }
          ],
          "scatterternary": [
           {
            "marker": {
             "colorbar": {
              "outlinewidth": 0,
              "ticks": ""
             }
            },
            "type": "scatterternary"
           }
          ],
          "surface": [
           {
            "colorbar": {
             "outlinewidth": 0,
             "ticks": ""
            },
            "colorscale": [
             [
              0,
              "#0d0887"
             ],
             [
              0.1111111111111111,
              "#46039f"
             ],
             [
              0.2222222222222222,
              "#7201a8"
             ],
             [
              0.3333333333333333,
              "#9c179e"
             ],
             [
              0.4444444444444444,
              "#bd3786"
             ],
             [
              0.5555555555555556,
              "#d8576b"
             ],
             [
              0.6666666666666666,
              "#ed7953"
             ],
             [
              0.7777777777777778,
              "#fb9f3a"
             ],
             [
              0.8888888888888888,
              "#fdca26"
             ],
             [
              1,
              "#f0f921"
             ]
            ],
            "type": "surface"
           }
          ],
          "table": [
           {
            "cells": {
             "fill": {
              "color": "#EBF0F8"
             },
             "line": {
              "color": "white"
             }
            },
            "header": {
             "fill": {
              "color": "#C8D4E3"
             },
             "line": {
              "color": "white"
             }
            },
            "type": "table"
           }
          ]
         },
         "layout": {
          "annotationdefaults": {
           "arrowcolor": "#2a3f5f",
           "arrowhead": 0,
           "arrowwidth": 1
          },
          "autotypenumbers": "strict",
          "coloraxis": {
           "colorbar": {
            "outlinewidth": 0,
            "ticks": ""
           }
          },
          "colorscale": {
           "diverging": [
            [
             0,
             "#8e0152"
            ],
            [
             0.1,
             "#c51b7d"
            ],
            [
             0.2,
             "#de77ae"
            ],
            [
             0.3,
             "#f1b6da"
            ],
            [
             0.4,
             "#fde0ef"
            ],
            [
             0.5,
             "#f7f7f7"
            ],
            [
             0.6,
             "#e6f5d0"
            ],
            [
             0.7,
             "#b8e186"
            ],
            [
             0.8,
             "#7fbc41"
            ],
            [
             0.9,
             "#4d9221"
            ],
            [
             1,
             "#276419"
            ]
           ],
           "sequential": [
            [
             0,
             "#0d0887"
            ],
            [
             0.1111111111111111,
             "#46039f"
            ],
            [
             0.2222222222222222,
             "#7201a8"
            ],
            [
             0.3333333333333333,
             "#9c179e"
            ],
            [
             0.4444444444444444,
             "#bd3786"
            ],
            [
             0.5555555555555556,
             "#d8576b"
            ],
            [
             0.6666666666666666,
             "#ed7953"
            ],
            [
             0.7777777777777778,
             "#fb9f3a"
            ],
            [
             0.8888888888888888,
             "#fdca26"
            ],
            [
             1,
             "#f0f921"
            ]
           ],
           "sequentialminus": [
            [
             0,
             "#0d0887"
            ],
            [
             0.1111111111111111,
             "#46039f"
            ],
            [
             0.2222222222222222,
             "#7201a8"
            ],
            [
             0.3333333333333333,
             "#9c179e"
            ],
            [
             0.4444444444444444,
             "#bd3786"
            ],
            [
             0.5555555555555556,
             "#d8576b"
            ],
            [
             0.6666666666666666,
             "#ed7953"
            ],
            [
             0.7777777777777778,
             "#fb9f3a"
            ],
            [
             0.8888888888888888,
             "#fdca26"
            ],
            [
             1,
             "#f0f921"
            ]
           ]
          },
          "colorway": [
           "#636efa",
           "#EF553B",
           "#00cc96",
           "#ab63fa",
           "#FFA15A",
           "#19d3f3",
           "#FF6692",
           "#B6E880",
           "#FF97FF",
           "#FECB52"
          ],
          "font": {
           "color": "#2a3f5f"
          },
          "geo": {
           "bgcolor": "white",
           "lakecolor": "white",
           "landcolor": "#E5ECF6",
           "showlakes": true,
           "showland": true,
           "subunitcolor": "white"
          },
          "hoverlabel": {
           "align": "left"
          },
          "hovermode": "closest",
          "mapbox": {
           "style": "light"
          },
          "paper_bgcolor": "white",
          "plot_bgcolor": "#E5ECF6",
          "polar": {
           "angularaxis": {
            "gridcolor": "white",
            "linecolor": "white",
            "ticks": ""
           },
           "bgcolor": "#E5ECF6",
           "radialaxis": {
            "gridcolor": "white",
            "linecolor": "white",
            "ticks": ""
           }
          },
          "scene": {
           "xaxis": {
            "backgroundcolor": "#E5ECF6",
            "gridcolor": "white",
            "gridwidth": 2,
            "linecolor": "white",
            "showbackground": true,
            "ticks": "",
            "zerolinecolor": "white"
           },
           "yaxis": {
            "backgroundcolor": "#E5ECF6",
            "gridcolor": "white",
            "gridwidth": 2,
            "linecolor": "white",
            "showbackground": true,
            "ticks": "",
            "zerolinecolor": "white"
           },
           "zaxis": {
            "backgroundcolor": "#E5ECF6",
            "gridcolor": "white",
            "gridwidth": 2,
            "linecolor": "white",
            "showbackground": true,
            "ticks": "",
            "zerolinecolor": "white"
           }
          },
          "shapedefaults": {
           "line": {
            "color": "#2a3f5f"
           }
          },
          "ternary": {
           "aaxis": {
            "gridcolor": "white",
            "linecolor": "white",
            "ticks": ""
           },
           "baxis": {
            "gridcolor": "white",
            "linecolor": "white",
            "ticks": ""
           },
           "bgcolor": "#E5ECF6",
           "caxis": {
            "gridcolor": "white",
            "linecolor": "white",
            "ticks": ""
           }
          },
          "title": {
           "x": 0.05
          },
          "xaxis": {
           "automargin": true,
           "gridcolor": "white",
           "linecolor": "white",
           "ticks": "",
           "title": {
            "standoff": 15
           },
           "zerolinecolor": "white",
           "zerolinewidth": 2
          },
          "yaxis": {
           "automargin": true,
           "gridcolor": "white",
           "linecolor": "white",
           "ticks": "",
           "title": {
            "standoff": 15
           },
           "zerolinecolor": "white",
           "zerolinewidth": 2
          }
         }
        }
       }
      },
      "text/html": [
       "<div>                            <div id=\"4c01b7a2-b77c-4b24-b09a-462b4d69369f\" class=\"plotly-graph-div\" style=\"height:525px; width:100%;\"></div>            <script type=\"text/javascript\">                require([\"plotly\"], function(Plotly) {                    window.PLOTLYENV=window.PLOTLYENV || {};                                    if (document.getElementById(\"4c01b7a2-b77c-4b24-b09a-462b4d69369f\")) {                    Plotly.newPlot(                        \"4c01b7a2-b77c-4b24-b09a-462b4d69369f\",                        [{\"geo\":\"geo\",\"hovertemplate\":\"<b>%{hovertext}</b><br><br>num_visits=%{marker.size}<br>country=%{location}<extra></extra>\",\"hovertext\":[\"AUS\",\"CAN\",\"CHN\",\"ESP\",\"FRA\",\"ITA\",\"MEX\",\"OOO\",\"PRT\",\"SWE\",\"URY\",\"USA\",\"VEN\"],\"legendgroup\":\"\",\"locations\":[\"AUS\",\"CAN\",\"CHN\",\"ESP\",\"FRA\",\"ITA\",\"MEX\",\"OOO\",\"PRT\",\"SWE\",\"URY\",\"USA\",\"VEN\"],\"marker\":{\"color\":\"#636efa\",\"size\":[1,5,7,112,5,2,1,6,1,1,1,57,1],\"sizemode\":\"area\",\"sizeref\":0.28,\"symbol\":\"circle\"},\"mode\":\"markers\",\"name\":\"\",\"showlegend\":false,\"type\":\"scattergeo\"}],                        {\"template\":{\"data\":{\"bar\":[{\"error_x\":{\"color\":\"#2a3f5f\"},\"error_y\":{\"color\":\"#2a3f5f\"},\"marker\":{\"line\":{\"color\":\"#E5ECF6\",\"width\":0.5},\"pattern\":{\"fillmode\":\"overlay\",\"size\":10,\"solidity\":0.2}},\"type\":\"bar\"}],\"barpolar\":[{\"marker\":{\"line\":{\"color\":\"#E5ECF6\",\"width\":0.5},\"pattern\":{\"fillmode\":\"overlay\",\"size\":10,\"solidity\":0.2}},\"type\":\"barpolar\"}],\"carpet\":[{\"aaxis\":{\"endlinecolor\":\"#2a3f5f\",\"gridcolor\":\"white\",\"linecolor\":\"white\",\"minorgridcolor\":\"white\",\"startlinecolor\":\"#2a3f5f\"},\"baxis\":{\"endlinecolor\":\"#2a3f5f\",\"gridcolor\":\"white\",\"linecolor\":\"white\",\"minorgridcolor\":\"white\",\"startlinecolor\":\"#2a3f5f\"},\"type\":\"carpet\"}],\"choropleth\":[{\"colorbar\":{\"outlinewidth\":0,\"ticks\":\"\"},\"type\":\"choropleth\"}],\"contour\":[{\"colorbar\":{\"outlinewidth\":0,\"ticks\":\"\"},\"colorscale\":[[0.0,\"#0d0887\"],[0.1111111111111111,\"#46039f\"],[0.2222222222222222,\"#7201a8\"],[0.3333333333333333,\"#9c179e\"],[0.4444444444444444,\"#bd3786\"],[0.5555555555555556,\"#d8576b\"],[0.6666666666666666,\"#ed7953\"],[0.7777777777777778,\"#fb9f3a\"],[0.8888888888888888,\"#fdca26\"],[1.0,\"#f0f921\"]],\"type\":\"contour\"}],\"contourcarpet\":[{\"colorbar\":{\"outlinewidth\":0,\"ticks\":\"\"},\"type\":\"contourcarpet\"}],\"heatmap\":[{\"colorbar\":{\"outlinewidth\":0,\"ticks\":\"\"},\"colorscale\":[[0.0,\"#0d0887\"],[0.1111111111111111,\"#46039f\"],[0.2222222222222222,\"#7201a8\"],[0.3333333333333333,\"#9c179e\"],[0.4444444444444444,\"#bd3786\"],[0.5555555555555556,\"#d8576b\"],[0.6666666666666666,\"#ed7953\"],[0.7777777777777778,\"#fb9f3a\"],[0.8888888888888888,\"#fdca26\"],[1.0,\"#f0f921\"]],\"type\":\"heatmap\"}],\"heatmapgl\":[{\"colorbar\":{\"outlinewidth\":0,\"ticks\":\"\"},\"colorscale\":[[0.0,\"#0d0887\"],[0.1111111111111111,\"#46039f\"],[0.2222222222222222,\"#7201a8\"],[0.3333333333333333,\"#9c179e\"],[0.4444444444444444,\"#bd3786\"],[0.5555555555555556,\"#d8576b\"],[0.6666666666666666,\"#ed7953\"],[0.7777777777777778,\"#fb9f3a\"],[0.8888888888888888,\"#fdca26\"],[1.0,\"#f0f921\"]],\"type\":\"heatmapgl\"}],\"histogram\":[{\"marker\":{\"pattern\":{\"fillmode\":\"overlay\",\"size\":10,\"solidity\":0.2}},\"type\":\"histogram\"}],\"histogram2d\":[{\"colorbar\":{\"outlinewidth\":0,\"ticks\":\"\"},\"colorscale\":[[0.0,\"#0d0887\"],[0.1111111111111111,\"#46039f\"],[0.2222222222222222,\"#7201a8\"],[0.3333333333333333,\"#9c179e\"],[0.4444444444444444,\"#bd3786\"],[0.5555555555555556,\"#d8576b\"],[0.6666666666666666,\"#ed7953\"],[0.7777777777777778,\"#fb9f3a\"],[0.8888888888888888,\"#fdca26\"],[1.0,\"#f0f921\"]],\"type\":\"histogram2d\"}],\"histogram2dcontour\":[{\"colorbar\":{\"outlinewidth\":0,\"ticks\":\"\"},\"colorscale\":[[0.0,\"#0d0887\"],[0.1111111111111111,\"#46039f\"],[0.2222222222222222,\"#7201a8\"],[0.3333333333333333,\"#9c179e\"],[0.4444444444444444,\"#bd3786\"],[0.5555555555555556,\"#d8576b\"],[0.6666666666666666,\"#ed7953\"],[0.7777777777777778,\"#fb9f3a\"],[0.8888888888888888,\"#fdca26\"],[1.0,\"#f0f921\"]],\"type\":\"histogram2dcontour\"}],\"mesh3d\":[{\"colorbar\":{\"outlinewidth\":0,\"ticks\":\"\"},\"type\":\"mesh3d\"}],\"parcoords\":[{\"line\":{\"colorbar\":{\"outlinewidth\":0,\"ticks\":\"\"}},\"type\":\"parcoords\"}],\"pie\":[{\"automargin\":true,\"type\":\"pie\"}],\"scatter\":[{\"marker\":{\"colorbar\":{\"outlinewidth\":0,\"ticks\":\"\"}},\"type\":\"scatter\"}],\"scatter3d\":[{\"line\":{\"colorbar\":{\"outlinewidth\":0,\"ticks\":\"\"}},\"marker\":{\"colorbar\":{\"outlinewidth\":0,\"ticks\":\"\"}},\"type\":\"scatter3d\"}],\"scattercarpet\":[{\"marker\":{\"colorbar\":{\"outlinewidth\":0,\"ticks\":\"\"}},\"type\":\"scattercarpet\"}],\"scattergeo\":[{\"marker\":{\"colorbar\":{\"outlinewidth\":0,\"ticks\":\"\"}},\"type\":\"scattergeo\"}],\"scattergl\":[{\"marker\":{\"colorbar\":{\"outlinewidth\":0,\"ticks\":\"\"}},\"type\":\"scattergl\"}],\"scattermapbox\":[{\"marker\":{\"colorbar\":{\"outlinewidth\":0,\"ticks\":\"\"}},\"type\":\"scattermapbox\"}],\"scatterpolar\":[{\"marker\":{\"colorbar\":{\"outlinewidth\":0,\"ticks\":\"\"}},\"type\":\"scatterpolar\"}],\"scatterpolargl\":[{\"marker\":{\"colorbar\":{\"outlinewidth\":0,\"ticks\":\"\"}},\"type\":\"scatterpolargl\"}],\"scatterternary\":[{\"marker\":{\"colorbar\":{\"outlinewidth\":0,\"ticks\":\"\"}},\"type\":\"scatterternary\"}],\"surface\":[{\"colorbar\":{\"outlinewidth\":0,\"ticks\":\"\"},\"colorscale\":[[0.0,\"#0d0887\"],[0.1111111111111111,\"#46039f\"],[0.2222222222222222,\"#7201a8\"],[0.3333333333333333,\"#9c179e\"],[0.4444444444444444,\"#bd3786\"],[0.5555555555555556,\"#d8576b\"],[0.6666666666666666,\"#ed7953\"],[0.7777777777777778,\"#fb9f3a\"],[0.8888888888888888,\"#fdca26\"],[1.0,\"#f0f921\"]],\"type\":\"surface\"}],\"table\":[{\"cells\":{\"fill\":{\"color\":\"#EBF0F8\"},\"line\":{\"color\":\"white\"}},\"header\":{\"fill\":{\"color\":\"#C8D4E3\"},\"line\":{\"color\":\"white\"}},\"type\":\"table\"}]},\"layout\":{\"annotationdefaults\":{\"arrowcolor\":\"#2a3f5f\",\"arrowhead\":0,\"arrowwidth\":1},\"autotypenumbers\":\"strict\",\"coloraxis\":{\"colorbar\":{\"outlinewidth\":0,\"ticks\":\"\"}},\"colorscale\":{\"diverging\":[[0,\"#8e0152\"],[0.1,\"#c51b7d\"],[0.2,\"#de77ae\"],[0.3,\"#f1b6da\"],[0.4,\"#fde0ef\"],[0.5,\"#f7f7f7\"],[0.6,\"#e6f5d0\"],[0.7,\"#b8e186\"],[0.8,\"#7fbc41\"],[0.9,\"#4d9221\"],[1,\"#276419\"]],\"sequential\":[[0.0,\"#0d0887\"],[0.1111111111111111,\"#46039f\"],[0.2222222222222222,\"#7201a8\"],[0.3333333333333333,\"#9c179e\"],[0.4444444444444444,\"#bd3786\"],[0.5555555555555556,\"#d8576b\"],[0.6666666666666666,\"#ed7953\"],[0.7777777777777778,\"#fb9f3a\"],[0.8888888888888888,\"#fdca26\"],[1.0,\"#f0f921\"]],\"sequentialminus\":[[0.0,\"#0d0887\"],[0.1111111111111111,\"#46039f\"],[0.2222222222222222,\"#7201a8\"],[0.3333333333333333,\"#9c179e\"],[0.4444444444444444,\"#bd3786\"],[0.5555555555555556,\"#d8576b\"],[0.6666666666666666,\"#ed7953\"],[0.7777777777777778,\"#fb9f3a\"],[0.8888888888888888,\"#fdca26\"],[1.0,\"#f0f921\"]]},\"colorway\":[\"#636efa\",\"#EF553B\",\"#00cc96\",\"#ab63fa\",\"#FFA15A\",\"#19d3f3\",\"#FF6692\",\"#B6E880\",\"#FF97FF\",\"#FECB52\"],\"font\":{\"color\":\"#2a3f5f\"},\"geo\":{\"bgcolor\":\"white\",\"lakecolor\":\"white\",\"landcolor\":\"#E5ECF6\",\"showlakes\":true,\"showland\":true,\"subunitcolor\":\"white\"},\"hoverlabel\":{\"align\":\"left\"},\"hovermode\":\"closest\",\"mapbox\":{\"style\":\"light\"},\"paper_bgcolor\":\"white\",\"plot_bgcolor\":\"#E5ECF6\",\"polar\":{\"angularaxis\":{\"gridcolor\":\"white\",\"linecolor\":\"white\",\"ticks\":\"\"},\"bgcolor\":\"#E5ECF6\",\"radialaxis\":{\"gridcolor\":\"white\",\"linecolor\":\"white\",\"ticks\":\"\"}},\"scene\":{\"xaxis\":{\"backgroundcolor\":\"#E5ECF6\",\"gridcolor\":\"white\",\"gridwidth\":2,\"linecolor\":\"white\",\"showbackground\":true,\"ticks\":\"\",\"zerolinecolor\":\"white\"},\"yaxis\":{\"backgroundcolor\":\"#E5ECF6\",\"gridcolor\":\"white\",\"gridwidth\":2,\"linecolor\":\"white\",\"showbackground\":true,\"ticks\":\"\",\"zerolinecolor\":\"white\"},\"zaxis\":{\"backgroundcolor\":\"#E5ECF6\",\"gridcolor\":\"white\",\"gridwidth\":2,\"linecolor\":\"white\",\"showbackground\":true,\"ticks\":\"\",\"zerolinecolor\":\"white\"}},\"shapedefaults\":{\"line\":{\"color\":\"#2a3f5f\"}},\"ternary\":{\"aaxis\":{\"gridcolor\":\"white\",\"linecolor\":\"white\",\"ticks\":\"\"},\"baxis\":{\"gridcolor\":\"white\",\"linecolor\":\"white\",\"ticks\":\"\"},\"bgcolor\":\"#E5ECF6\",\"caxis\":{\"gridcolor\":\"white\",\"linecolor\":\"white\",\"ticks\":\"\"}},\"title\":{\"x\":0.05},\"xaxis\":{\"automargin\":true,\"gridcolor\":\"white\",\"linecolor\":\"white\",\"ticks\":\"\",\"title\":{\"standoff\":15},\"zerolinecolor\":\"white\",\"zerolinewidth\":2},\"yaxis\":{\"automargin\":true,\"gridcolor\":\"white\",\"linecolor\":\"white\",\"ticks\":\"\",\"title\":{\"standoff\":15},\"zerolinecolor\":\"white\",\"zerolinewidth\":2}}},\"geo\":{\"domain\":{\"x\":[0.0,1.0],\"y\":[0.0,1.0]},\"projection\":{\"type\":\"natural earth\"},\"center\":{}},\"legend\":{\"tracegroupgap\":0,\"itemsizing\":\"constant\"},\"margin\":{\"t\":60}},                        {\"responsive\": true}                    ).then(function(){\n",
       "                            \n",
       "var gd = document.getElementById('4c01b7a2-b77c-4b24-b09a-462b4d69369f');\n",
       "var x = new MutationObserver(function (mutations, observer) {{\n",
       "        var display = window.getComputedStyle(gd).display;\n",
       "        if (!display || display === 'none') {{\n",
       "            console.log([gd, 'removed!']);\n",
       "            Plotly.purge(gd);\n",
       "            observer.disconnect();\n",
       "        }}\n",
       "}});\n",
       "\n",
       "// Listen for the removal of the full notebook cells\n",
       "var notebookContainer = gd.closest('#notebook-container');\n",
       "if (notebookContainer) {{\n",
       "    x.observe(notebookContainer, {childList: true});\n",
       "}}\n",
       "\n",
       "// Listen for the clearing of the current output cell\n",
       "var outputEl = gd.closest('.output');\n",
       "if (outputEl) {{\n",
       "    x.observe(outputEl, {childList: true});\n",
       "}}\n",
       "\n",
       "                        })                };                });            </script>        </div>"
      ]
     },
     "metadata": {},
     "output_type": "display_data"
    }
   ],
   "source": [
    "from ip2geotools.databases.noncommercial import DbIpCity\n",
    "import plotly.express as px\n",
    "import pycountry\n",
    "\n",
    "\n",
    "city = []\n",
    "region = []\n",
    "country = []\n",
    "\n",
    "for ip in df_logs['ip']:\n",
    "    response = DbIpCity.get(ip, api_key='free')\n",
    "    city.append(response.city)\n",
    "    region.append(response.region)\n",
    "    country.append(response.country)\n",
    "    \n",
    "df_logs['country'] = country\n",
    "df_logs['region'] = region\n",
    "df_logs['city'] = city\n",
    "\n",
    "df_logs = df_logs.fillna(value=np.nan)\n",
    "\n",
    "# ip2geotools utiliza códigos ISO2 para países y plotly.express ISO3, así que hay que convertirlos\n",
    "iso2_codes = [country.alpha_2 for country in list(pycountry.countries)]\n",
    "iso3_codes = [country.alpha_3 for country in list(pycountry.countries)]\n",
    "\n",
    "iso3_countries = []\n",
    "for country in df_logs['country']:\n",
    "    if country in iso2_codes:\n",
    "        country = pycountry.countries.get(alpha_2=f'{country}')\n",
    "        country = country.alpha_3\n",
    "        iso3_countries.append(country)\n",
    "    else: # Si son User-assigned code elements en ISO2(AA, de QM a QZ, de XA a XZ, y ZZ)\n",
    "        country = \"OOO\" # Designar como país no identificado, OOO para ISO3\n",
    "        iso3_countries.append(country)\n",
    "        \n",
    "df_logs['country'] = iso3_countries\n",
    "\n",
    "df_localizations = df_logs.groupby(['country']).size().reset_index(name='num_visits')\n",
    "print(df_localizations)\n",
    "\n",
    "mapa = px.scatter_geo(df_localizations, locations=\"country\", size=\"num_visits\", hover_name=\"country\", projection=\"natural earth\")\n",
    "mapa.show()"
   ]
  },
  {
   "cell_type": "markdown",
   "id": "771c3d8e",
   "metadata": {},
   "source": [
    "## Exercici 4\n",
    "Mostra'm la teva creativitat, Sorprèn-me fes un pas més enllà amb l'anàlisi anterior"
   ]
  },
  {
   "cell_type": "markdown",
   "id": "8c705e5c",
   "metadata": {},
   "source": [
    "**Tráfico de la web por horas**"
   ]
  },
  {
   "cell_type": "code",
   "execution_count": 35,
   "id": "490811c9",
   "metadata": {},
   "outputs": [
    {
     "data": {
      "image/png": "[encoded data removed]",
      "text/plain": [
       "<Figure size 432x288 with 1 Axes>"
      ]
     },
     "metadata": {
      "needs_background": "light"
     },
     "output_type": "display_data"
    }
   ],
   "source": [
    "import seaborn as sns\n",
    "import matplotlib.pyplot as plt\n",
    "\n",
    "\n",
    "df_logs['time'] = df_logs['time'].astype('datetime64[ns]')\n",
    "df_logs['hour'] = df_logs.time.dt.hour\n",
    "trafico_horas = df_logs.groupby(['hour']).size().reset_index(name='num_visits')\n",
    "trafico_horas_hist = sns.histplot(data=trafico_horas, x=\"hour\", y=\"num_visits\", bins = 5)\n",
    "range_hours = range(0,25,3)\n",
    "plt.xticks(range_hours)\n",
    "plt.title('Web traffic per hours')\n",
    "plt.ylabel('Number of visits')\n",
    "plt.xlabel('Hour')\n",
    "plt.show()"
   ]
  },
  {
   "cell_type": "markdown",
   "id": "19e91d9f",
   "metadata": {},
   "source": [
    "**Tráfico de la web por horas por país**"
   ]
  },
  {
   "cell_type": "code",
   "execution_count": 36,
   "id": "a0167ac7",
   "metadata": {},
   "outputs": [
    {
     "data": {
      "image/png": "[encoded data removed]",
      "text/plain": [
       "<Figure size 432x288 with 1 Axes>"
      ]
     },
     "metadata": {
      "needs_background": "light"
     },
     "output_type": "display_data"
    }
   ],
   "source": [
    "horas_trafico_pais = sns.boxplot(x=\"country\", y=\"hour\", data=df_logs, linewidth=1, width=0.5)\n",
    "range_hours = range(0,25,3)\n",
    "plt.yticks(range_hours)\n",
    "plt.title('Web traffic per hours per country')\n",
    "plt.ylabel('Hour')\n",
    "plt.xlabel('Country')\n",
    "plt.show()"
   ]
  },
  {
   "cell_type": "markdown",
   "id": "76f87f82",
   "metadata": {},
   "source": [
    "**Horas a las que se producen errores**"
   ]
  },
  {
   "cell_type": "code",
   "execution_count": 85,
   "id": "5f705e9d",
   "metadata": {},
   "outputs": [
    {
     "data": {
      "image/png": "[encoded data removed]",
      "text/plain": [
       "<Figure size 415.125x360 with 1 Axes>"
      ]
     },
     "metadata": {
      "needs_background": "light"
     },
     "output_type": "display_data"
    }
   ],
   "source": [
    "errors = df_logs[df_logs['status'] >= 400]\n",
    "sns.displot(data=errors, x=\"hour\", hue=\"status\")\n",
    "range_hours = range(0,25,3)\n",
    "plt.xticks(range_hours)\n",
    "range_errors = range(0,len(errors),1)\n",
    "plt.yticks(range_errors)\n",
    "plt.title('Error types during the day')\n",
    "plt.ylabel('Frenquency')\n",
    "plt.xlabel('Hour')\n",
    "plt.show()"
   ]
  },
  {
   "cell_type": "markdown",
   "id": "dbd8df92",
   "metadata": {},
   "source": [
    "**Páginas que generan errores**"
   ]
  },
  {
   "cell_type": "code",
   "execution_count": 104,
   "id": "31d71d45",
   "metadata": {},
   "outputs": [
    {
     "data": {
      "image/png": "[encoded data removed]",
      "text/plain": [
       "<Figure size 487.125x432 with 1 Axes>"
      ]
     },
     "metadata": {
      "needs_background": "light"
     },
     "output_type": "display_data"
    }
   ],
   "source": [
    "error_pages = errors.groupby(['page', 'status']).size().reset_index(name='counts')\n",
    "\n",
    "sns.catplot(\n",
    "    data=error_pages, kind=\"bar\",\n",
    "    x=\"page\", y=\"counts\", hue = \"status\",\n",
    "    ci=\"sd\", palette=\"dark\", alpha=.6, height=6\n",
    ")\n",
    "plt.yticks(range(0,error_pages['counts'].sum(),1))\n",
    "plt.ylabel('Number of errors')\n",
    "plt.xlabel('Page')\n",
    "plt.show()"
   ]
  },
  {
   "cell_type": "markdown",
   "id": "7c23f03e",
   "metadata": {},
   "source": [
    "**Número de visitas por páginas**"
   ]
  },
  {
   "cell_type": "code",
   "execution_count": 50,
   "id": "f6f4bc01",
   "metadata": {},
   "outputs": [
    {
     "data": {
      "image/png": "[encoded data removed]",
      "text/plain": [
       "<Figure size 432x432 with 1 Axes>"
      ]
     },
     "metadata": {
      "needs_background": "light"
     },
     "output_type": "display_data"
    }
   ],
   "source": [
    "error_pages = df_logs['page'].value_counts().reset_index(name='counts')\n",
    "\n",
    "sns.catplot(\n",
    "    data=error_pages, kind=\"bar\",\n",
    "    x=\"counts\", y=\"index\",\n",
    "    ci=\"sd\", palette=\"dark\", alpha=.6, height=6\n",
    ")\n",
    "plt.ylabel('Page')\n",
    "plt.xlabel('Num of visits')\n",
    "plt.show()"
   ]
  },
  {
   "cell_type": "code",
   "execution_count": null,
   "id": "4fea7c23",
   "metadata": {},
   "outputs": [],
   "source": []
  }
 ],
 "metadata": {
  "kernelspec": {
   "display_name": "Python 3 (ipykernel)",
   "language": "python",
   "name": "python3"
  },
  "language_info": {
   "codemirror_mode": {
    "name": "ipython",
    "version": 3
   },
   "file_extension": ".py",
   "mimetype": "text/x-python",
   "name": "python",
   "nbconvert_exporter": "python",
   "pygments_lexer": "ipython3",
   "version": "3.9.7"
  }
 },
 "nbformat": 4,
 "nbformat_minor": 5
}
